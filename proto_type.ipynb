{
 "cells": [
  {
   "cell_type": "code",
   "execution_count": 1,
   "metadata": {},
   "outputs": [
    {
     "name": "stdout",
     "output_type": "stream",
     "text": [
      "hello world\n"
     ]
    }
   ],
   "source": [
    "print(\"hello world\")"
   ]
  },
  {
   "cell_type": "code",
   "execution_count": 2,
   "metadata": {},
   "outputs": [
    {
     "name": "stdout",
     "output_type": "stream",
     "text": [
      "['ㅎ', 'ㅏ', 'ㄴ', 'ㄱ', 'ㅡ', 'ㄹ', ' ', 'ㅋ', 'ㅣ', 'ㅂ', 'ㅗ', 'ㄷ', 'ㅡ', ' ', 'ㅌ', 'ㅔ', 'ㅅ', 'ㅡ', 'ㅌ', 'ㅡ']\n"
     ]
    }
   ],
   "source": [
    "def decompose_hangul(text):\n",
    "    CHO = \"ㄱㄲㄴㄷㄸㄹㅁㅂㅃㅅㅆㅇㅈㅉㅊㅋㅌㅍㅎ\"\n",
    "    JUNG = \"ㅏㅐㅑㅒㅓㅔㅕㅖㅗㅘㅙㅚㅛㅜㅝㅞㅟㅠㅡㅢㅣ\"\n",
    "    JONG = [\"\"] + list(\"ㄱㄲㄳㄴㄵㄶㄷㄹㄺㄻㄼㄽㄾㄿㅀㅁㅂㅄㅅㅆㅇㅈㅊㅋㅌㅍㅎ\")\n",
    "\n",
    "    HANGUL_BASE = 0xAC00\n",
    "    CHO_BASE, JUNG_BASE, JONG_BASE = 588, 28, 1\n",
    "\n",
    "    result = []\n",
    "    for char in text:\n",
    "        if '가' <= char <= '힣':  # 한글 완성형이면 분해\n",
    "            code = ord(char) - HANGUL_BASE\n",
    "            cho = CHO[code // CHO_BASE]\n",
    "            jung = JUNG[(code % CHO_BASE) // JUNG_BASE]\n",
    "            jong = JONG[(code % CHO_BASE) % JUNG_BASE]\n",
    "            result.extend([cho, jung] + ([jong] if jong else []))\n",
    "        else:\n",
    "            result.append(char)  # 한글이 아니면 그대로 추가\n",
    "\n",
    "    return result\n",
    "\n",
    "# 테스트\n",
    "text = \"한글 키보드 테스트\"\n",
    "print(decompose_hangul(text))"
   ]
  },
  {
   "cell_type": "code",
   "execution_count": 4,
   "metadata": {},
   "outputs": [],
   "source": [
    "def get_finger_usage(char, layout):\n",
    "    \"\"\"입력된 자모가 어느 손가락(finger), 손(hand), 몇 번째 행(row)에 위치하는지 반환\"\"\"\n",
    "    if char in layout:\n",
    "        key, finger, row = layout[char]\n",
    "        hand = 'left' if 'left' in finger else 'right'\n",
    "        return key, finger, hand, row\n",
    "    return None, None, None, None  # 키보드에 없는 글자일 경우\n",
    "\n",
    "from collections import Counter\n",
    "\n",
    "def analyze_text(text, layout):\n",
    "    decomposed = decompose_hangul(text)  # 한글을 초성, 중성, 종성으로 분해\n",
    "    finger_usage = Counter()\n",
    "    hand_usage = Counter()\n",
    "    row_usage = Counter({1: 0, 2: 0, 3: 0})  # 1열, 2열, 3열 빈도\n",
    "\n",
    "    prev_finger = None  # 동일 손가락 연타 분석용\n",
    "    same_finger_count = 0\n",
    "    shift_usage = Counter({'left_pinky': 0, 'right_pinky': 0})  # Shift 사용 통계\n",
    "\n",
    "    for char in decomposed:\n",
    "        key, finger, hand, row = get_finger_usage(char, layout)\n",
    "\n",
    "        if finger:\n",
    "            finger_usage[finger] += 1\n",
    "            hand_usage[hand] += 1\n",
    "            row_usage[row] += 1  # 키보드 행(row) 사용 빈도 증가\n",
    "\n",
    "            # 동일 손가락 연타 검사\n",
    "            if prev_finger == finger:\n",
    "                same_finger_count += 1\n",
    "            prev_finger = finger\n",
    "\n",
    "        # Shift 키가 필요한 경우 반대 손 새끼손가락 사용\n",
    "        if key and \"shift_\" in key:\n",
    "            shift_hand = 'left_pinky' if hand == 'right' else 'right_pinky'\n",
    "            shift_usage[shift_hand] += 1  # Shift 키 입력 횟수 증가\n",
    "\n",
    "    return finger_usage, hand_usage, row_usage, same_finger_count, shift_usage"
   ]
  },
  {
   "cell_type": "code",
   "execution_count": 5,
   "metadata": {},
   "outputs": [],
   "source": [
    "dubeolsik = {\n",
    "    # 3열 (QWER)\n",
    "    'ㅂ': ('q', 'left_pinky', 3), 'ㅈ': ('w', 'left_ring', 3),\n",
    "    'ㄷ': ('e', 'left_middle', 3), 'ㄱ': ('r', 'left_index', 3),\n",
    "    'ㅅ': ('t', 'left_index', 3), 'ㅛ': ('y', 'right_index', 3),\n",
    "    'ㅕ': ('u', 'right_index', 3), 'ㅑ': ('i', 'right_middle', 3),\n",
    "    'ㅐ': ('o', 'right_ring', 3), 'ㅔ': ('p', 'right_pinky', 3),\n",
    "\n",
    "    # 2열 (ASDF) - 기본 위치\n",
    "    'ㅁ': ('a', 'left_pinky', 2), 'ㄴ': ('s', 'left_ring', 2),\n",
    "    'ㅇ': ('d', 'left_middle', 2), 'ㄹ': ('f', 'left_index', 2),\n",
    "    'ㅎ': ('g', 'left_index', 2), 'ㅗ': ('h', 'right_index', 2),\n",
    "    'ㅓ': ('j', 'right_index', 2), 'ㅏ': ('k', 'right_middle', 2),\n",
    "    'ㅣ': ('l', 'right_ring', 2),\n",
    "\n",
    "    # 1열 (ZXCV)\n",
    "    'ㅋ': ('z', 'left_pinky', 1), 'ㅌ': ('x', 'left_ring', 1),\n",
    "    'ㅊ': ('c', 'left_middle', 1), 'ㅍ': ('v', 'left_index', 1),\n",
    "    'ㅠ': ('b', 'left_index', 1), 'ㅜ': ('n', 'right_index', 1),\n",
    "    'ㅡ': ('m', 'right_index', 1),\n",
    "\n",
    "    # Shift 조합\n",
    "    'ㄲ': ('shift_q', 'left_pinky', 3), 'ㄸ': ('shift_e', 'left_middle', 3),\n",
    "    'ㅃ': ('shift_q', 'left_pinky', 3), 'ㅆ': ('shift_t', 'left_index', 3),\n",
    "    'ㅉ': ('shift_w', 'left_ring', 3),\n",
    "}"
   ]
  },
  {
   "cell_type": "code",
   "execution_count": 10,
   "metadata": {},
   "outputs": [
    {
     "name": "stdout",
     "output_type": "stream",
     "text": [
      "손가락 사용 빈도: Counter({'left_middle': 1, 'right_middle': 1})\n",
      "손 사용 비율: Counter({'left': 1, 'right': 1})\n",
      "키보드 행(row) 사용 비율: Counter({2: 2, 1: 0, 3: 0})\n",
      "동일 손가락 연타 횟수: 0\n",
      "Shift 키 사용 횟수: Counter({'left_pinky': 0, 'right_pinky': 0})\n"
     ]
    }
   ],
   "source": [
    "text = \"앉\"\n",
    "finger_stats, hand_stats, row_stats, same_finger_hits, shift_stats = analyze_text(text, dubeolsik)\n",
    "\n",
    "print(\"손가락 사용 빈도:\", finger_stats)\n",
    "print(\"손 사용 비율:\", hand_stats)\n",
    "print(\"키보드 행(row) 사용 비율:\", row_stats)\n",
    "print(\"동일 손가락 연타 횟수:\", same_finger_hits)\n",
    "print(\"Shift 키 사용 횟수:\", shift_stats)"
   ]
  },
  {
   "cell_type": "code",
   "execution_count": 18,
   "metadata": {},
   "outputs": [],
   "source": [
    "import numpy as np\n",
    "import matplotlib.pyplot as plt\n",
    "import seaborn as sns\n",
    "\n",
    "# 키보드 레이아웃 (위치 지정)\n",
    "keyboard_layout = [\n",
    "    ['q', 'w', 'e', 'r', 't', '', 'y', 'u', 'i', 'o', 'p'],\n",
    "    ['a', 's', 'd', 'f', 'g', '', 'h', 'j', 'k', 'l', ';'],\n",
    "    ['z', 'x', 'c', 'v', 'b', '', 'n', 'm', ',', '.', '/']\n",
    "]\n",
    "\n",
    "# 키 위치 매핑\n",
    "key_position_map = {key: (row, col) for row, line in enumerate(keyboard_layout) for col, key in enumerate(line) if key}\n",
    "\n",
    "def create_heatmap(finger_stats, layout):\n",
    "    \"\"\" 키보드 히트맵을 생성하는 함수 \"\"\"\n",
    "    heatmap = np.zeros((3, 11))  # 키보드 크기 (3행 x 11열)\n",
    "\n",
    "    for char, (key, finger, row) in layout.items():\n",
    "        if key in key_position_map:  # 키보드에 존재하는 키만 처리\n",
    "            col = key_position_map[key]  # key_position_map에서 열 정보 가져오기\n",
    "            heatmap[row-1, col] += finger_stats.get(finger, 0)  # 0부터 시작하는 index 맞추기\n",
    "\n",
    "    plt.imshow(heatmap, cmap=\"Blues\", interpolation=\"nearest\")\n",
    "    plt.colorbar()\n",
    "    plt.xticks(range(10), list(\"QWERTYUIOP\"))  # 수정된 부분\n",
    "    plt.yticks(range(3), [\"1열\", \"2열\", \"3열\"])\n",
    "    plt.show()"
   ]
  },
  {
   "cell_type": "code",
   "execution_count": 19,
   "metadata": {},
   "outputs": [
    {
     "name": "stderr",
     "output_type": "stream",
     "text": [
      "/Users/jkywalker/Github/custom_keyboard_layout/venv/lib/python3.12/site-packages/IPython/core/pylabtools.py:170: UserWarning: Glyph 50676 (\\N{HANGUL SYLLABLE YEOL}) missing from font(s) DejaVu Sans.\n",
      "  fig.canvas.print_figure(bytes_io, **kw)\n"
     ]
    },
    {
     "data": {
      "image/png": "[encoded data removed]",
      "text/plain": [
       "<Figure size 640x480 with 2 Axes>"
      ]
     },
     "metadata": {},
     "output_type": "display_data"
    }
   ],
   "source": [
    "finger_stats, _, _, _, _ = analyze_text(\"한글 키보드 테스트\", dubeolsik)\n",
    "create_heatmap(finger_stats, dubeolsik)"
   ]
  },
  {
   "cell_type": "code",
   "execution_count": 20,
   "metadata": {},
   "outputs": [
    {
     "name": "stderr",
     "output_type": "stream",
     "text": [
      "/var/folders/3q/ws_lqxxd50z47w0yrdzmfwd40000gn/T/ipykernel_18037/2829616105.py:4: FutureWarning: \n",
      "\n",
      "Passing `palette` without assigning `hue` is deprecated and will be removed in v0.14.0. Assign the `x` variable to `hue` and set `legend=False` for the same effect.\n",
      "\n",
      "  sns.barplot(x=list(hand_usage.keys()), y=list(hand_usage.values()), palette=\"coolwarm\")\n",
      "/Users/jkywalker/Github/custom_keyboard_layout/venv/lib/python3.12/site-packages/IPython/core/pylabtools.py:170: UserWarning: Glyph 49324 (\\N{HANGUL SYLLABLE SA}) missing from font(s) DejaVu Sans.\n",
      "  fig.canvas.print_figure(bytes_io, **kw)\n",
      "/Users/jkywalker/Github/custom_keyboard_layout/venv/lib/python3.12/site-packages/IPython/core/pylabtools.py:170: UserWarning: Glyph 50857 (\\N{HANGUL SYLLABLE YONG}) missing from font(s) DejaVu Sans.\n",
      "  fig.canvas.print_figure(bytes_io, **kw)\n",
      "/Users/jkywalker/Github/custom_keyboard_layout/venv/lib/python3.12/site-packages/IPython/core/pylabtools.py:170: UserWarning: Glyph 54943 (\\N{HANGUL SYLLABLE HOES}) missing from font(s) DejaVu Sans.\n",
      "  fig.canvas.print_figure(bytes_io, **kw)\n",
      "/Users/jkywalker/Github/custom_keyboard_layout/venv/lib/python3.12/site-packages/IPython/core/pylabtools.py:170: UserWarning: Glyph 49688 (\\N{HANGUL SYLLABLE SU}) missing from font(s) DejaVu Sans.\n",
      "  fig.canvas.print_figure(bytes_io, **kw)\n",
      "/Users/jkywalker/Github/custom_keyboard_layout/venv/lib/python3.12/site-packages/IPython/core/pylabtools.py:170: UserWarning: Glyph 50812 (\\N{HANGUL SYLLABLE OEN}) missing from font(s) DejaVu Sans.\n",
      "  fig.canvas.print_figure(bytes_io, **kw)\n",
      "/Users/jkywalker/Github/custom_keyboard_layout/venv/lib/python3.12/site-packages/IPython/core/pylabtools.py:170: UserWarning: Glyph 49552 (\\N{HANGUL SYLLABLE SON}) missing from font(s) DejaVu Sans.\n",
      "  fig.canvas.print_figure(bytes_io, **kw)\n",
      "/Users/jkywalker/Github/custom_keyboard_layout/venv/lib/python3.12/site-packages/IPython/core/pylabtools.py:170: UserWarning: Glyph 50724 (\\N{HANGUL SYLLABLE O}) missing from font(s) DejaVu Sans.\n",
      "  fig.canvas.print_figure(bytes_io, **kw)\n",
      "/Users/jkywalker/Github/custom_keyboard_layout/venv/lib/python3.12/site-packages/IPython/core/pylabtools.py:170: UserWarning: Glyph 47480 (\\N{HANGUL SYLLABLE REUN}) missing from font(s) DejaVu Sans.\n",
      "  fig.canvas.print_figure(bytes_io, **kw)\n",
      "/Users/jkywalker/Github/custom_keyboard_layout/venv/lib/python3.12/site-packages/IPython/core/pylabtools.py:170: UserWarning: Glyph 48708 (\\N{HANGUL SYLLABLE BI}) missing from font(s) DejaVu Sans.\n",
      "  fig.canvas.print_figure(bytes_io, **kw)\n",
      "/Users/jkywalker/Github/custom_keyboard_layout/venv/lib/python3.12/site-packages/IPython/core/pylabtools.py:170: UserWarning: Glyph 50984 (\\N{HANGUL SYLLABLE YUL}) missing from font(s) DejaVu Sans.\n",
      "  fig.canvas.print_figure(bytes_io, **kw)\n"
     ]
    },
    {
     "data": {
      "image/png": "[encoded data removed]",
      "text/plain": [
       "<Figure size 600x400 with 1 Axes>"
      ]
     },
     "metadata": {},
     "output_type": "display_data"
    }
   ],
   "source": [
    "def plot_hand_usage(hand_usage):\n",
    "    \"\"\" 왼손 vs 오른손 사용 비율 그래프 \"\"\"\n",
    "    plt.figure(figsize=(6, 4))\n",
    "    sns.barplot(x=list(hand_usage.keys()), y=list(hand_usage.values()), palette=\"coolwarm\")\n",
    "    plt.xlabel(\"손\")\n",
    "    plt.ylabel(\"사용 횟수\")\n",
    "    plt.title(\"왼손 vs 오른손 사용 비율\")\n",
    "    plt.show()\n",
    "\n",
    "plot_hand_usage(hand_stats)"
   ]
  },
  {
   "cell_type": "code",
   "execution_count": 21,
   "metadata": {},
   "outputs": [
    {
     "name": "stderr",
     "output_type": "stream",
     "text": [
      "/var/folders/3q/ws_lqxxd50z47w0yrdzmfwd40000gn/T/ipykernel_18037/348572257.py:4: FutureWarning: \n",
      "\n",
      "Passing `palette` without assigning `hue` is deprecated and will be removed in v0.14.0. Assign the `x` variable to `hue` and set `legend=False` for the same effect.\n",
      "\n",
      "  sns.barplot(x=[\"1열\", \"2열\", \"3열\"], y=[row_usage[1], row_usage[2], row_usage[3]], palette=\"coolwarm\")\n",
      "/Users/jkywalker/Github/custom_keyboard_layout/venv/lib/python3.12/site-packages/IPython/core/pylabtools.py:170: UserWarning: Glyph 49324 (\\N{HANGUL SYLLABLE SA}) missing from font(s) DejaVu Sans.\n",
      "  fig.canvas.print_figure(bytes_io, **kw)\n",
      "/Users/jkywalker/Github/custom_keyboard_layout/venv/lib/python3.12/site-packages/IPython/core/pylabtools.py:170: UserWarning: Glyph 50857 (\\N{HANGUL SYLLABLE YONG}) missing from font(s) DejaVu Sans.\n",
      "  fig.canvas.print_figure(bytes_io, **kw)\n",
      "/Users/jkywalker/Github/custom_keyboard_layout/venv/lib/python3.12/site-packages/IPython/core/pylabtools.py:170: UserWarning: Glyph 54943 (\\N{HANGUL SYLLABLE HOES}) missing from font(s) DejaVu Sans.\n",
      "  fig.canvas.print_figure(bytes_io, **kw)\n",
      "/Users/jkywalker/Github/custom_keyboard_layout/venv/lib/python3.12/site-packages/IPython/core/pylabtools.py:170: UserWarning: Glyph 49688 (\\N{HANGUL SYLLABLE SU}) missing from font(s) DejaVu Sans.\n",
      "  fig.canvas.print_figure(bytes_io, **kw)\n",
      "/Users/jkywalker/Github/custom_keyboard_layout/venv/lib/python3.12/site-packages/IPython/core/pylabtools.py:170: UserWarning: Glyph 53412 (\\N{HANGUL SYLLABLE KI}) missing from font(s) DejaVu Sans.\n",
      "  fig.canvas.print_figure(bytes_io, **kw)\n",
      "/Users/jkywalker/Github/custom_keyboard_layout/venv/lib/python3.12/site-packages/IPython/core/pylabtools.py:170: UserWarning: Glyph 48372 (\\N{HANGUL SYLLABLE BO}) missing from font(s) DejaVu Sans.\n",
      "  fig.canvas.print_figure(bytes_io, **kw)\n",
      "/Users/jkywalker/Github/custom_keyboard_layout/venv/lib/python3.12/site-packages/IPython/core/pylabtools.py:170: UserWarning: Glyph 46300 (\\N{HANGUL SYLLABLE DEU}) missing from font(s) DejaVu Sans.\n",
      "  fig.canvas.print_figure(bytes_io, **kw)\n",
      "/Users/jkywalker/Github/custom_keyboard_layout/venv/lib/python3.12/site-packages/IPython/core/pylabtools.py:170: UserWarning: Glyph 54665 (\\N{HANGUL SYLLABLE HAENG}) missing from font(s) DejaVu Sans.\n",
      "  fig.canvas.print_figure(bytes_io, **kw)\n",
      "/Users/jkywalker/Github/custom_keyboard_layout/venv/lib/python3.12/site-packages/IPython/core/pylabtools.py:170: UserWarning: Glyph 48324 (\\N{HANGUL SYLLABLE BYEOL}) missing from font(s) DejaVu Sans.\n",
      "  fig.canvas.print_figure(bytes_io, **kw)\n",
      "/Users/jkywalker/Github/custom_keyboard_layout/venv/lib/python3.12/site-packages/IPython/core/pylabtools.py:170: UserWarning: Glyph 48712 (\\N{HANGUL SYLLABLE BIN}) missing from font(s) DejaVu Sans.\n",
      "  fig.canvas.print_figure(bytes_io, **kw)\n",
      "/Users/jkywalker/Github/custom_keyboard_layout/venv/lib/python3.12/site-packages/IPython/core/pylabtools.py:170: UserWarning: Glyph 46020 (\\N{HANGUL SYLLABLE DO}) missing from font(s) DejaVu Sans.\n",
      "  fig.canvas.print_figure(bytes_io, **kw)\n",
      "/Users/jkywalker/Github/custom_keyboard_layout/venv/lib/python3.12/site-packages/IPython/core/pylabtools.py:170: UserWarning: Glyph 50676 (\\N{HANGUL SYLLABLE YEOL}) missing from font(s) DejaVu Sans.\n",
      "  fig.canvas.print_figure(bytes_io, **kw)\n"
     ]
    },
    {
     "data": {
      "image/png": "[encoded data removed]",
      "text/plain": [
       "<Figure size 600x400 with 1 Axes>"
      ]
     },
     "metadata": {},
     "output_type": "display_data"
    }
   ],
   "source": [
    "def plot_row_usage(row_usage):\n",
    "    \"\"\" 키보드 행(row) 사용 비율 그래프 \"\"\"\n",
    "    plt.figure(figsize=(6, 4))\n",
    "    sns.barplot(x=[\"1열\", \"2열\", \"3열\"], y=[row_usage[1], row_usage[2], row_usage[3]], palette=\"coolwarm\")\n",
    "    plt.xlabel(\"키보드 행\")\n",
    "    plt.ylabel(\"사용 횟수\")\n",
    "    plt.title(\"키보드 행(row)별 사용 빈도\")\n",
    "    plt.show()\n",
    "\n",
    "plot_row_usage(row_stats)"
   ]
  },
  {
   "cell_type": "code",
   "execution_count": null,
   "metadata": {},
   "outputs": [],
   "source": []
  }
 ],
 "metadata": {
  "kernelspec": {
   "display_name": "venv",
   "language": "python",
   "name": "python3"
  },
  "language_info": {
   "codemirror_mode": {
    "name": "ipython",
    "version": 3
   },
   "file_extension": ".py",
   "mimetype": "text/x-python",
   "name": "python",
   "nbconvert_exporter": "python",
   "pygments_lexer": "ipython3",
   "version": "3.12.8"
  }
 },
 "nbformat": 4,
 "nbformat_minor": 2
}
